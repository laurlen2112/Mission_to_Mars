{
 "cells": [
  {
   "cell_type": "code",
   "execution_count": 1,
   "id": "c090e7d8",
   "metadata": {},
   "outputs": [],
   "source": [
    "#import scraping dependencies\n",
    "from splinter import Browser\n",
    "from bs4 import BeautifulSoup as soup\n",
    "from webdriver_manager.chrome import ChromeDriverManager"
   ]
  },
  {
   "cell_type": "code",
   "execution_count": 2,
   "id": "96ba9ab9",
   "metadata": {},
   "outputs": [
    {
     "name": "stdout",
     "output_type": "stream",
     "text": [
      "\n"
     ]
    },
    {
     "name": "stderr",
     "output_type": "stream",
     "text": [
      "[WDM] - ====== WebDriver manager ======\n",
      "[WDM] - Current google-chrome version is 102.0.5005\n",
      "[WDM] - Get LATEST chromedriver version for 102.0.5005 google-chrome\n",
      "[WDM] - About to download new driver from https://chromedriver.storage.googleapis.com/102.0.5005.61/chromedriver_mac64.zip\n",
      "[WDM] - Driver has been saved in cache [/Users/laurenerminina/.wdm/drivers/chromedriver/mac64/102.0.5005.61]\n"
     ]
    }
   ],
   "source": [
    "#set up splinter\n",
    "executable_path = {'executable_path': ChromeDriverManager().install()}\n",
    "browser = Browser('chrome', **executable_path, headless=False)"
   ]
  },
  {
   "cell_type": "code",
   "execution_count": 3,
   "id": "57f9f421",
   "metadata": {},
   "outputs": [],
   "source": [
    "#at 10.3.2\n",
    "#code to it tell what site to scrap\n",
    "url ='http://quotes.toscrape.com/'\n",
    "browser.visit(url)"
   ]
  },
  {
   "cell_type": "code",
   "execution_count": 4,
   "id": "8d7a0dc8",
   "metadata": {},
   "outputs": [],
   "source": [
    "#use BS to parse the site\n",
    "html = browser.html\n",
    "html_soup = soup(html, 'html.parser')"
   ]
  },
  {
   "cell_type": "code",
   "execution_count": 6,
   "id": "ec28c08b",
   "metadata": {},
   "outputs": [
    {
     "data": {
      "text/plain": [
       "'Top Ten tags'"
      ]
     },
     "execution_count": 6,
     "metadata": {},
     "output_type": "execute_result"
    }
   ],
   "source": [
    "#find and extract the title\n",
    "title = html_soup.find('h2').text\n",
    "title"
   ]
  },
  {
   "cell_type": "code",
   "execution_count": null,
   "id": "3c89c290",
   "metadata": {},
   "outputs": [],
   "source": [
    "#scraping top 10 tags\n",
    "tag_box = html_soup.find('div', class_='tags-box')\n",
    "\n",
    "#tag_box\n",
    "tags = tag_box.find_all('a', class_='tag')\n",
    "\n",
    "for tag in tags:\n",
    "    word = tag.txt\n",
    "    print(word)"
   ]
  },
  {
   "cell_type": "code",
   "execution_count": 18,
   "id": "2a905c07",
   "metadata": {},
   "outputs": [
    {
     "name": "stdout",
     "output_type": "stream",
     "text": [
      "page: 1 _______\n",
      "“The world as we have created it is a process of our thinking. It cannot be changed without changing our thinking.”\n",
      "page: 1 _______\n",
      "“It is our choices, Harry, that show what we truly are, far more than our abilities.”\n",
      "page: 1 _______\n",
      "“There are only two ways to live your life. One is as though nothing is a miracle. The other is as though everything is a miracle.”\n",
      "page: 1 _______\n",
      "“The person, be it gentleman or lady, who has not pleasure in a good novel, must be intolerably stupid.”\n",
      "page: 1 _______\n",
      "“Imperfection is beauty, madness is genius and it's better to be absolutely ridiculous than absolutely boring.”\n",
      "page: 1 _______\n",
      "“Try not to become a man of success. Rather become a man of value.”\n",
      "page: 1 _______\n",
      "“It is better to be hated for what you are than to be loved for what you are not.”\n",
      "page: 1 _______\n",
      "“I have not failed. I've just found 10,000 ways that won't work.”\n",
      "page: 1 _______\n",
      "“A woman is like a tea bag; you never know how strong it is until it's in hot water.”\n",
      "page: 1 _______\n",
      "“A day without sunshine is like, you know, night.”\n",
      "page: 2 _______\n",
      "“The world as we have created it is a process of our thinking. It cannot be changed without changing our thinking.”\n",
      "page: 2 _______\n",
      "“It is our choices, Harry, that show what we truly are, far more than our abilities.”\n",
      "page: 2 _______\n",
      "“There are only two ways to live your life. One is as though nothing is a miracle. The other is as though everything is a miracle.”\n",
      "page: 2 _______\n",
      "“The person, be it gentleman or lady, who has not pleasure in a good novel, must be intolerably stupid.”\n",
      "page: 2 _______\n",
      "“Imperfection is beauty, madness is genius and it's better to be absolutely ridiculous than absolutely boring.”\n",
      "page: 2 _______\n",
      "“Try not to become a man of success. Rather become a man of value.”\n",
      "page: 2 _______\n",
      "“It is better to be hated for what you are than to be loved for what you are not.”\n",
      "page: 2 _______\n",
      "“I have not failed. I've just found 10,000 ways that won't work.”\n",
      "page: 2 _______\n",
      "“A woman is like a tea bag; you never know how strong it is until it's in hot water.”\n",
      "page: 2 _______\n",
      "“A day without sunshine is like, you know, night.”\n",
      "page: 3 _______\n",
      "“The world as we have created it is a process of our thinking. It cannot be changed without changing our thinking.”\n",
      "page: 3 _______\n",
      "“It is our choices, Harry, that show what we truly are, far more than our abilities.”\n",
      "page: 3 _______\n",
      "“There are only two ways to live your life. One is as though nothing is a miracle. The other is as though everything is a miracle.”\n",
      "page: 3 _______\n",
      "“The person, be it gentleman or lady, who has not pleasure in a good novel, must be intolerably stupid.”\n",
      "page: 3 _______\n",
      "“Imperfection is beauty, madness is genius and it's better to be absolutely ridiculous than absolutely boring.”\n",
      "page: 3 _______\n",
      "“Try not to become a man of success. Rather become a man of value.”\n",
      "page: 3 _______\n",
      "“It is better to be hated for what you are than to be loved for what you are not.”\n",
      "page: 3 _______\n",
      "“I have not failed. I've just found 10,000 ways that won't work.”\n",
      "page: 3 _______\n",
      "“A woman is like a tea bag; you never know how strong it is until it's in hot water.”\n",
      "page: 3 _______\n",
      "“A day without sunshine is like, you know, night.”\n",
      "page: 4 _______\n",
      "“The world as we have created it is a process of our thinking. It cannot be changed without changing our thinking.”\n",
      "page: 4 _______\n",
      "“It is our choices, Harry, that show what we truly are, far more than our abilities.”\n",
      "page: 4 _______\n",
      "“There are only two ways to live your life. One is as though nothing is a miracle. The other is as though everything is a miracle.”\n",
      "page: 4 _______\n",
      "“The person, be it gentleman or lady, who has not pleasure in a good novel, must be intolerably stupid.”\n",
      "page: 4 _______\n",
      "“Imperfection is beauty, madness is genius and it's better to be absolutely ridiculous than absolutely boring.”\n",
      "page: 4 _______\n",
      "“Try not to become a man of success. Rather become a man of value.”\n",
      "page: 4 _______\n",
      "“It is better to be hated for what you are than to be loved for what you are not.”\n",
      "page: 4 _______\n",
      "“I have not failed. I've just found 10,000 ways that won't work.”\n",
      "page: 4 _______\n",
      "“A woman is like a tea bag; you never know how strong it is until it's in hot water.”\n",
      "page: 4 _______\n",
      "“A day without sunshine is like, you know, night.”\n",
      "page: 5 _______\n",
      "“The world as we have created it is a process of our thinking. It cannot be changed without changing our thinking.”\n",
      "page: 5 _______\n",
      "“It is our choices, Harry, that show what we truly are, far more than our abilities.”\n",
      "page: 5 _______\n",
      "“There are only two ways to live your life. One is as though nothing is a miracle. The other is as though everything is a miracle.”\n",
      "page: 5 _______\n",
      "“The person, be it gentleman or lady, who has not pleasure in a good novel, must be intolerably stupid.”\n",
      "page: 5 _______\n",
      "“Imperfection is beauty, madness is genius and it's better to be absolutely ridiculous than absolutely boring.”\n",
      "page: 5 _______\n",
      "“Try not to become a man of success. Rather become a man of value.”\n",
      "page: 5 _______\n",
      "“It is better to be hated for what you are than to be loved for what you are not.”\n",
      "page: 5 _______\n",
      "“I have not failed. I've just found 10,000 ways that won't work.”\n",
      "page: 5 _______\n",
      "“A woman is like a tea bag; you never know how strong it is until it's in hot water.”\n",
      "page: 5 _______\n",
      "“A day without sunshine is like, you know, night.”\n"
     ]
    }
   ],
   "source": [
    "#create a for loop to create BS object, find all the quotes on one page, print\n",
    "#quotes, click next and repeat on additional page\n",
    "#range 1-6 will tell it to do it for 5 pgs\n",
    "url ='http://quotes.toscrape.com/'\n",
    "browser.visit(url)\n",
    "for x in range(1,6):\n",
    "    html= browser.html\n",
    "    quote_soup = soup(html, 'html.parser')\n",
    "    quotes = quote_soup.find_all('span', class_='text')\n",
    "    for quote in quotes:\n",
    "        print('page:', x, '_______')\n",
    "        print(quote.text)\n",
    "   # browser.links.find_by_partial_text('Next').click()"
   ]
  },
  {
   "cell_type": "code",
   "execution_count": 38,
   "id": "450350a1",
   "metadata": {},
   "outputs": [],
   "source": [
    "#skill drill, scrape books to scrape\n",
    "url_books ='http://books.toscrape.com/'\n",
    "browser.visit(url_books)\n",
    "for x in range(1):\n",
    "    html= browser.html\n",
    "    books_soup = soup(html, 'html.parser')\n",
    "    books = books_soup.find_all('h3', class_= 'title')\n",
    "    for book in books:\n",
    "        print('page:', x, '_______')\n",
    "        print(book.text)\n",
    "   # browser.links.find_by_partial_text('Next').click()\n"
   ]
  },
  {
   "cell_type": "code",
   "execution_count": 39,
   "id": "805c8dd3",
   "metadata": {},
   "outputs": [],
   "source": [
    "browser.quit()"
   ]
  },
  {
   "cell_type": "code",
   "execution_count": null,
   "id": "c9eef2d3",
   "metadata": {},
   "outputs": [],
   "source": []
  },
  {
   "cell_type": "code",
   "execution_count": null,
   "id": "90c68711",
   "metadata": {},
   "outputs": [],
   "source": []
  },
  {
   "cell_type": "code",
   "execution_count": null,
   "id": "0b100bad",
   "metadata": {},
   "outputs": [],
   "source": []
  },
  {
   "cell_type": "code",
   "execution_count": null,
   "id": "849b4d47",
   "metadata": {},
   "outputs": [],
   "source": []
  },
  {
   "cell_type": "code",
   "execution_count": null,
   "id": "302cc3ba",
   "metadata": {},
   "outputs": [],
   "source": []
  }
 ],
 "metadata": {
  "kernelspec": {
   "display_name": "PythonData",
   "language": "python",
   "name": "pythondata"
  },
  "language_info": {
   "codemirror_mode": {
    "name": "ipython",
    "version": 3
   },
   "file_extension": ".py",
   "mimetype": "text/x-python",
   "name": "python",
   "nbconvert_exporter": "python",
   "pygments_lexer": "ipython3",
   "version": "3.7.11"
  }
 },
 "nbformat": 4,
 "nbformat_minor": 5
}
